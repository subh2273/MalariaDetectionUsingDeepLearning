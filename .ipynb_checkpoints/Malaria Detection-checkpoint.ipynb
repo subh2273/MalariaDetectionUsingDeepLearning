{
 "cells": [
  {
   "cell_type": "code",
   "execution_count": 1,
   "metadata": {},
   "outputs": [],
   "source": [
    "# import the libraries as shown below\n",
    "\n",
    "from tensorflow.keras.layers import Input, Lambda, Dense, Flatten,Conv2D\n",
    "from tensorflow.keras.models import Model\n",
    "from tensorflow.keras.applications.vgg19 import VGG19\n",
    "from tensorflow.keras.applications.resnet50 import preprocess_input\n",
    "from tensorflow.keras.preprocessing import image\n",
    "from tensorflow.keras.preprocessing.image import ImageDataGenerator,load_img\n",
    "from tensorflow.keras.models import Sequential\n",
    "import numpy as np\n",
    "from glob import glob\n",
    "import matplotlib.pyplot as plt"
   ]
  },
  {
   "cell_type": "code",
   "execution_count": 7,
   "metadata": {},
   "outputs": [],
   "source": [
    "\n",
    "# re-size all the images to this\n",
    "IMAGE_SIZE = [224, 224]\n",
    "\n",
    "train_path = 'Dataset/Train'\n",
    "valid_path = 'Dataset/Test'"
   ]
  },
  {
   "cell_type": "code",
   "execution_count": 8,
   "metadata": {},
   "outputs": [],
   "source": [
    "# Import the Vgg 16 library as shown below and add preprocessing layer to the front of VGG\n",
    "# Here we will be using imagenet weights\n",
    "\n",
    "mobilnet = VGG19(input_shape=IMAGE_SIZE + [3], weights='imagenet', include_top=False)"
   ]
  },
  {
   "cell_type": "code",
   "execution_count": 9,
   "metadata": {},
   "outputs": [],
   "source": [
    "# don't train existing weights\n",
    "for layer in mobilnet.layers:\n",
    "    layer.trainable = False"
   ]
  },
  {
   "cell_type": "code",
   "execution_count": 10,
   "metadata": {},
   "outputs": [],
   "source": [
    "# useful for getting number of output classes\n",
    "folders = glob('Dataset/Train/*')"
   ]
  },
  {
   "cell_type": "code",
   "execution_count": 11,
   "metadata": {},
   "outputs": [
    {
     "data": {
      "text/plain": [
       "['Dataset/Train/Uninfected', 'Dataset/Train/Parasite']"
      ]
     },
     "execution_count": 11,
     "metadata": {},
     "output_type": "execute_result"
    }
   ],
   "source": [
    "folders"
   ]
  },
  {
   "cell_type": "code",
   "execution_count": 12,
   "metadata": {},
   "outputs": [],
   "source": [
    "# our layers - you can add more if you want\n",
    "x = Flatten()(mobilnet.output)"
   ]
  },
  {
   "cell_type": "code",
   "execution_count": 13,
   "metadata": {},
   "outputs": [],
   "source": [
    "prediction = Dense(len(folders), activation='softmax')(x)\n",
    "\n",
    "# create a model object\n",
    "model = Model(inputs=mobilnet.input, outputs=prediction)"
   ]
  },
  {
   "cell_type": "code",
   "execution_count": 14,
   "metadata": {},
   "outputs": [
    {
     "name": "stdout",
     "output_type": "stream",
     "text": [
      "Model: \"model\"\n",
      "_________________________________________________________________\n",
      "Layer (type)                 Output Shape              Param #   \n",
      "=================================================================\n",
      "input_2 (InputLayer)         [(None, 224, 224, 3)]     0         \n",
      "_________________________________________________________________\n",
      "block1_conv1 (Conv2D)        (None, 224, 224, 64)      1792      \n",
      "_________________________________________________________________\n",
      "block1_conv2 (Conv2D)        (None, 224, 224, 64)      36928     \n",
      "_________________________________________________________________\n",
      "block1_pool (MaxPooling2D)   (None, 112, 112, 64)      0         \n",
      "_________________________________________________________________\n",
      "block2_conv1 (Conv2D)        (None, 112, 112, 128)     73856     \n",
      "_________________________________________________________________\n",
      "block2_conv2 (Conv2D)        (None, 112, 112, 128)     147584    \n",
      "_________________________________________________________________\n",
      "block2_pool (MaxPooling2D)   (None, 56, 56, 128)       0         \n",
      "_________________________________________________________________\n",
      "block3_conv1 (Conv2D)        (None, 56, 56, 256)       295168    \n",
      "_________________________________________________________________\n",
      "block3_conv2 (Conv2D)        (None, 56, 56, 256)       590080    \n",
      "_________________________________________________________________\n",
      "block3_conv3 (Conv2D)        (None, 56, 56, 256)       590080    \n",
      "_________________________________________________________________\n",
      "block3_conv4 (Conv2D)        (None, 56, 56, 256)       590080    \n",
      "_________________________________________________________________\n",
      "block3_pool (MaxPooling2D)   (None, 28, 28, 256)       0         \n",
      "_________________________________________________________________\n",
      "block4_conv1 (Conv2D)        (None, 28, 28, 512)       1180160   \n",
      "_________________________________________________________________\n",
      "block4_conv2 (Conv2D)        (None, 28, 28, 512)       2359808   \n",
      "_________________________________________________________________\n",
      "block4_conv3 (Conv2D)        (None, 28, 28, 512)       2359808   \n",
      "_________________________________________________________________\n",
      "block4_conv4 (Conv2D)        (None, 28, 28, 512)       2359808   \n",
      "_________________________________________________________________\n",
      "block4_pool (MaxPooling2D)   (None, 14, 14, 512)       0         \n",
      "_________________________________________________________________\n",
      "block5_conv1 (Conv2D)        (None, 14, 14, 512)       2359808   \n",
      "_________________________________________________________________\n",
      "block5_conv2 (Conv2D)        (None, 14, 14, 512)       2359808   \n",
      "_________________________________________________________________\n",
      "block5_conv3 (Conv2D)        (None, 14, 14, 512)       2359808   \n",
      "_________________________________________________________________\n",
      "block5_conv4 (Conv2D)        (None, 14, 14, 512)       2359808   \n",
      "_________________________________________________________________\n",
      "block5_pool (MaxPooling2D)   (None, 7, 7, 512)         0         \n",
      "_________________________________________________________________\n",
      "flatten (Flatten)            (None, 25088)             0         \n",
      "_________________________________________________________________\n",
      "dense (Dense)                (None, 2)                 50178     \n",
      "=================================================================\n",
      "Total params: 20,074,562\n",
      "Trainable params: 50,178\n",
      "Non-trainable params: 20,024,384\n",
      "_________________________________________________________________\n"
     ]
    }
   ],
   "source": [
    "\n",
    "# view the structure of the model\n",
    "model.summary()"
   ]
  },
  {
   "cell_type": "code",
   "execution_count": 15,
   "metadata": {},
   "outputs": [],
   "source": [
    "from tensorflow.keras.layers import MaxPooling2D\n"
   ]
  },
  {
   "cell_type": "code",
   "execution_count": 16,
   "metadata": {},
   "outputs": [
    {
     "name": "stdout",
     "output_type": "stream",
     "text": [
      "Model: \"sequential\"\n",
      "_________________________________________________________________\n",
      "Layer (type)                 Output Shape              Param #   \n",
      "=================================================================\n",
      "conv2d (Conv2D)              (None, 224, 224, 16)      208       \n",
      "_________________________________________________________________\n",
      "max_pooling2d (MaxPooling2D) (None, 112, 112, 16)      0         \n",
      "_________________________________________________________________\n",
      "conv2d_1 (Conv2D)            (None, 112, 112, 32)      2080      \n",
      "_________________________________________________________________\n",
      "max_pooling2d_1 (MaxPooling2 (None, 56, 56, 32)        0         \n",
      "_________________________________________________________________\n",
      "conv2d_2 (Conv2D)            (None, 56, 56, 64)        8256      \n",
      "_________________________________________________________________\n",
      "max_pooling2d_2 (MaxPooling2 (None, 28, 28, 64)        0         \n",
      "_________________________________________________________________\n",
      "flatten_1 (Flatten)          (None, 50176)             0         \n",
      "_________________________________________________________________\n",
      "dense_1 (Dense)              (None, 500)               25088500  \n",
      "_________________________________________________________________\n",
      "dense_2 (Dense)              (None, 2)                 1002      \n",
      "=================================================================\n",
      "Total params: 25,100,046\n",
      "Trainable params: 25,100,046\n",
      "Non-trainable params: 0\n",
      "_________________________________________________________________\n"
     ]
    }
   ],
   "source": [
    "### Create Model from scratch using CNN\n",
    "\n",
    "model=Sequential()\n",
    "model.add(Conv2D(filters=16,kernel_size=2,padding=\"same\",activation=\"relu\",input_shape=(224,224,3)))\n",
    "model.add(MaxPooling2D(pool_size=2))\n",
    "model.add(Conv2D(filters=32,kernel_size=2,padding=\"same\",activation =\"relu\"))\n",
    "model.add(MaxPooling2D(pool_size=2))\n",
    "model.add(Conv2D(filters=64,kernel_size=2,padding=\"same\",activation=\"relu\"))\n",
    "model.add(MaxPooling2D(pool_size=2))\n",
    "model.add(Flatten())\n",
    "model.add(Dense(500,activation=\"relu\"))\n",
    "model.add(Dense(2,activation=\"softmax\"))\n",
    "model.summary()"
   ]
  },
  {
   "cell_type": "code",
   "execution_count": 17,
   "metadata": {},
   "outputs": [],
   "source": [
    "# tell the model what cost and optimization method to use\n",
    "model.compile(\n",
    "  loss='categorical_crossentropy',\n",
    "  optimizer='adam',\n",
    "  metrics=['accuracy']\n",
    ")"
   ]
  },
  {
   "cell_type": "code",
   "execution_count": 18,
   "metadata": {},
   "outputs": [],
   "source": [
    "# Use the Image Data Generator to import the images from the dataset\n",
    "from tensorflow.keras.preprocessing.image import ImageDataGenerator\n",
    "\n",
    "train_datagen = ImageDataGenerator(rescale = 1./255,\n",
    "                                   shear_range = 0.2,\n",
    "                                   zoom_range = 0.2,\n",
    "                                   horizontal_flip = True)\n",
    "\n",
    "test_datagen = ImageDataGenerator(rescale = 1./255)"
   ]
  },
  {
   "cell_type": "code",
   "execution_count": 19,
   "metadata": {},
   "outputs": [
    {
     "name": "stdout",
     "output_type": "stream",
     "text": [
      "Found 416 images belonging to 2 classes.\n"
     ]
    }
   ],
   "source": [
    "# Make sure you provide the same target size as initialied for the image size\n",
    "training_set = train_datagen.flow_from_directory('Dataset/Train',\n",
    "                                                 target_size = (224, 224),\n",
    "                                                 batch_size = 32,\n",
    "                                                 class_mode = 'categorical')"
   ]
  },
  {
   "cell_type": "code",
   "execution_count": 20,
   "metadata": {},
   "outputs": [
    {
     "data": {
      "text/plain": [
       "<tensorflow.python.keras.preprocessing.image.DirectoryIterator at 0x7f9bc425a280>"
      ]
     },
     "execution_count": 20,
     "metadata": {},
     "output_type": "execute_result"
    }
   ],
   "source": [
    "training_set"
   ]
  },
  {
   "cell_type": "code",
   "execution_count": 21,
   "metadata": {},
   "outputs": [
    {
     "name": "stdout",
     "output_type": "stream",
     "text": [
      "Found 134 images belonging to 2 classes.\n"
     ]
    }
   ],
   "source": [
    "test_set = test_datagen.flow_from_directory('Dataset/Test',\n",
    "                                            target_size = (224, 224),\n",
    "                                            batch_size = 32,\n",
    "                                            class_mode = 'categorical')"
   ]
  },
  {
   "cell_type": "code",
   "execution_count": 23,
   "metadata": {},
   "outputs": [
    {
     "name": "stderr",
     "output_type": "stream",
     "text": [
      "/home/user/anaconda3/lib/python3.8/site-packages/tensorflow/python/keras/engine/training.py:1844: UserWarning: `Model.fit_generator` is deprecated and will be removed in a future version. Please use `Model.fit`, which supports generators.\n",
      "  warnings.warn('`Model.fit_generator` is deprecated and '\n"
     ]
    },
    {
     "name": "stdout",
     "output_type": "stream",
     "text": [
      "Epoch 1/50\n",
      "13/13 [==============================] - 14s 1s/step - loss: 4.0537 - accuracy: 0.5414 - val_loss: 0.8027 - val_accuracy: 0.3955\n",
      "Epoch 2/50\n",
      "13/13 [==============================] - 13s 988ms/step - loss: 0.6486 - accuracy: 0.6116 - val_loss: 0.6417 - val_accuracy: 0.6716\n",
      "Epoch 3/50\n",
      "13/13 [==============================] - 11s 857ms/step - loss: 0.6093 - accuracy: 0.6218 - val_loss: 0.8987 - val_accuracy: 0.3731\n",
      "Epoch 4/50\n",
      "13/13 [==============================] - 12s 922ms/step - loss: 0.5483 - accuracy: 0.6939 - val_loss: 0.8241 - val_accuracy: 0.4104\n",
      "Epoch 5/50\n",
      "13/13 [==============================] - 10s 782ms/step - loss: 0.5353 - accuracy: 0.7069 - val_loss: 0.7778 - val_accuracy: 0.5821\n",
      "Epoch 6/50\n",
      "13/13 [==============================] - 12s 916ms/step - loss: 0.6579 - accuracy: 0.6492 - val_loss: 0.6917 - val_accuracy: 0.4627\n",
      "Epoch 7/50\n",
      "13/13 [==============================] - 11s 818ms/step - loss: 0.5182 - accuracy: 0.7548 - val_loss: 0.7145 - val_accuracy: 0.4701\n",
      "Epoch 8/50\n",
      "13/13 [==============================] - 16s 1s/step - loss: 0.4561 - accuracy: 0.8076 - val_loss: 1.0865 - val_accuracy: 0.4328\n",
      "Epoch 9/50\n",
      "13/13 [==============================] - 16s 1s/step - loss: 0.5371 - accuracy: 0.7412 - val_loss: 0.6002 - val_accuracy: 0.6343\n",
      "Epoch 10/50\n",
      "13/13 [==============================] - 17s 1s/step - loss: 0.4293 - accuracy: 0.8044 - val_loss: 0.6923 - val_accuracy: 0.5597\n",
      "Epoch 11/50\n",
      "13/13 [==============================] - 17s 1s/step - loss: 0.3786 - accuracy: 0.8383 - val_loss: 0.6560 - val_accuracy: 0.6269\n",
      "Epoch 12/50\n",
      "13/13 [==============================] - 16s 1s/step - loss: 0.3761 - accuracy: 0.8298 - val_loss: 0.7808 - val_accuracy: 0.5970\n",
      "Epoch 13/50\n",
      "13/13 [==============================] - 17s 1s/step - loss: 0.3606 - accuracy: 0.8336 - val_loss: 0.4602 - val_accuracy: 0.7836\n",
      "Epoch 14/50\n",
      "13/13 [==============================] - 17s 1s/step - loss: 0.3512 - accuracy: 0.8443 - val_loss: 0.5393 - val_accuracy: 0.6791\n",
      "Epoch 15/50\n",
      "13/13 [==============================] - 17s 1s/step - loss: 0.2889 - accuracy: 0.8820 - val_loss: 0.3936 - val_accuracy: 0.8060\n",
      "Epoch 16/50\n",
      "13/13 [==============================] - 15s 1s/step - loss: 0.2753 - accuracy: 0.8824 - val_loss: 0.4793 - val_accuracy: 0.7388\n",
      "Epoch 17/50\n",
      "13/13 [==============================] - 17s 1s/step - loss: 0.2490 - accuracy: 0.9161 - val_loss: 0.3425 - val_accuracy: 0.8284\n",
      "Epoch 18/50\n",
      "13/13 [==============================] - 19s 1s/step - loss: 0.2167 - accuracy: 0.9085 - val_loss: 0.3001 - val_accuracy: 0.8657\n",
      "Epoch 19/50\n",
      "13/13 [==============================] - 17s 1s/step - loss: 0.1870 - accuracy: 0.9253 - val_loss: 0.2545 - val_accuracy: 0.9030\n",
      "Epoch 20/50\n",
      "13/13 [==============================] - 16s 1s/step - loss: 0.1640 - accuracy: 0.9580 - val_loss: 0.2999 - val_accuracy: 0.8806\n",
      "Epoch 21/50\n",
      "13/13 [==============================] - 16s 1s/step - loss: 0.1532 - accuracy: 0.9530 - val_loss: 0.3096 - val_accuracy: 0.8881\n",
      "Epoch 22/50\n",
      "13/13 [==============================] - 18s 1s/step - loss: 0.1905 - accuracy: 0.9506 - val_loss: 0.4015 - val_accuracy: 0.8433\n",
      "Epoch 23/50\n",
      "13/13 [==============================] - 17s 1s/step - loss: 0.1034 - accuracy: 0.9492 - val_loss: 0.3787 - val_accuracy: 0.8209\n",
      "Epoch 24/50\n",
      "13/13 [==============================] - 15s 1s/step - loss: 0.2449 - accuracy: 0.9091 - val_loss: 0.5143 - val_accuracy: 0.7015\n",
      "Epoch 25/50\n",
      "13/13 [==============================] - 18s 1s/step - loss: 0.2597 - accuracy: 0.8985 - val_loss: 0.3298 - val_accuracy: 0.8433\n",
      "Epoch 26/50\n",
      "13/13 [==============================] - 17s 1s/step - loss: 0.1069 - accuracy: 0.9681 - val_loss: 0.2996 - val_accuracy: 0.8806\n",
      "Epoch 27/50\n",
      "13/13 [==============================] - 16s 1s/step - loss: 0.1144 - accuracy: 0.9685 - val_loss: 0.2249 - val_accuracy: 0.9030\n",
      "Epoch 28/50\n",
      "13/13 [==============================] - 16s 1s/step - loss: 0.0884 - accuracy: 0.9716 - val_loss: 0.4489 - val_accuracy: 0.8582\n",
      "Epoch 29/50\n",
      "13/13 [==============================] - 17s 1s/step - loss: 0.1616 - accuracy: 0.9567 - val_loss: 0.2493 - val_accuracy: 0.8881\n",
      "Epoch 30/50\n",
      "13/13 [==============================] - 15s 1s/step - loss: 0.0755 - accuracy: 0.9770 - val_loss: 0.2244 - val_accuracy: 0.9254\n",
      "Epoch 31/50\n",
      "13/13 [==============================] - 14s 1s/step - loss: 0.1104 - accuracy: 0.9682 - val_loss: 0.1830 - val_accuracy: 0.9254\n",
      "Epoch 32/50\n",
      "13/13 [==============================] - 15s 1s/step - loss: 0.0597 - accuracy: 0.9814 - val_loss: 0.3983 - val_accuracy: 0.8881\n",
      "Epoch 33/50\n",
      "13/13 [==============================] - 14s 1s/step - loss: 0.1071 - accuracy: 0.9665 - val_loss: 0.1807 - val_accuracy: 0.9179\n",
      "Epoch 34/50\n",
      "13/13 [==============================] - 15s 1s/step - loss: 0.0639 - accuracy: 0.9823 - val_loss: 0.3259 - val_accuracy: 0.8955\n",
      "Epoch 35/50\n",
      "13/13 [==============================] - 18s 1s/step - loss: 0.0419 - accuracy: 0.9880 - val_loss: 0.3305 - val_accuracy: 0.9030\n",
      "Epoch 36/50\n",
      "13/13 [==============================] - 17s 1s/step - loss: 0.0542 - accuracy: 0.9743 - val_loss: 0.2532 - val_accuracy: 0.9179\n",
      "Epoch 37/50\n",
      "13/13 [==============================] - 17s 1s/step - loss: 0.0818 - accuracy: 0.9745 - val_loss: 0.1848 - val_accuracy: 0.9179\n",
      "Epoch 38/50\n",
      "13/13 [==============================] - 18s 1s/step - loss: 0.0462 - accuracy: 0.9901 - val_loss: 0.2618 - val_accuracy: 0.9030\n",
      "Epoch 39/50\n",
      "13/13 [==============================] - 17s 1s/step - loss: 0.0182 - accuracy: 0.9971 - val_loss: 0.5722 - val_accuracy: 0.8657\n",
      "Epoch 40/50\n",
      "13/13 [==============================] - 16s 1s/step - loss: 0.1072 - accuracy: 0.9651 - val_loss: 0.2207 - val_accuracy: 0.9030\n",
      "Epoch 41/50\n",
      "13/13 [==============================] - 17s 1s/step - loss: 0.0813 - accuracy: 0.9895 - val_loss: 0.2684 - val_accuracy: 0.9104\n",
      "Epoch 42/50\n",
      "13/13 [==============================] - 17s 1s/step - loss: 0.0454 - accuracy: 0.9841 - val_loss: 0.3019 - val_accuracy: 0.9104\n",
      "Epoch 43/50\n",
      "13/13 [==============================] - 17s 1s/step - loss: 0.0487 - accuracy: 0.9853 - val_loss: 0.5171 - val_accuracy: 0.8731\n",
      "Epoch 44/50\n",
      "13/13 [==============================] - 16s 1s/step - loss: 0.0813 - accuracy: 0.9776 - val_loss: 0.2200 - val_accuracy: 0.9179\n",
      "Epoch 45/50\n",
      "13/13 [==============================] - 16s 1s/step - loss: 0.0380 - accuracy: 0.9969 - val_loss: 0.2986 - val_accuracy: 0.9179\n",
      "Epoch 46/50\n",
      "13/13 [==============================] - 16s 1s/step - loss: 0.0941 - accuracy: 0.9795 - val_loss: 0.4822 - val_accuracy: 0.8507\n",
      "Epoch 47/50\n",
      "13/13 [==============================] - 16s 1s/step - loss: 0.1835 - accuracy: 0.9388 - val_loss: 0.2584 - val_accuracy: 0.8955\n",
      "Epoch 48/50\n",
      "13/13 [==============================] - 17s 1s/step - loss: 0.0856 - accuracy: 0.9750 - val_loss: 0.5612 - val_accuracy: 0.8657\n",
      "Epoch 49/50\n",
      "13/13 [==============================] - 18s 1s/step - loss: 0.0624 - accuracy: 0.9780 - val_loss: 0.1796 - val_accuracy: 0.9179\n",
      "Epoch 50/50\n",
      "13/13 [==============================] - 18s 1s/step - loss: 0.0470 - accuracy: 0.9883 - val_loss: 0.4185 - val_accuracy: 0.8806\n"
     ]
    }
   ],
   "source": [
    "# fit the model\n",
    "# Run the cell. It will take some time to execute\n",
    "r = model.fit_generator(\n",
    "  training_set,\n",
    "  validation_data=test_set,\n",
    "  epochs=50,\n",
    "  steps_per_epoch=len(training_set),\n",
    "  validation_steps=len(test_set)\n",
    ")"
   ]
  },
  {
   "cell_type": "code",
   "execution_count": 24,
   "metadata": {},
   "outputs": [
    {
     "data": {
      "image/png": "[encoded data removed]",
      "text/plain": [
       "<Figure size 432x288 with 1 Axes>"
      ]
     },
     "metadata": {
      "needs_background": "light"
     },
     "output_type": "display_data"
    },
    {
     "data": {
      "image/png": "[encoded data removed]",
      "text/plain": [
       "<Figure size 432x288 with 1 Axes>"
      ]
     },
     "metadata": {
      "needs_background": "light"
     },
     "output_type": "display_data"
    },
    {
     "data": {
      "text/plain": [
       "<Figure size 432x288 with 0 Axes>"
      ]
     },
     "metadata": {},
     "output_type": "display_data"
    }
   ],
   "source": [
    "# plot the loss\n",
    "plt.plot(r.history['loss'], label='train loss')\n",
    "plt.plot(r.history['val_loss'], label='val loss')\n",
    "plt.legend()\n",
    "plt.show()\n",
    "plt.savefig('LossVal_loss')\n",
    "\n",
    "# plot the accuracy\n",
    "plt.plot(r.history['accuracy'], label='train acc')\n",
    "plt.plot(r.history['val_accuracy'], label='val acc')\n",
    "plt.legend()\n",
    "plt.show()\n",
    "plt.savefig('AccVal_acc')"
   ]
  },
  {
   "cell_type": "code",
   "execution_count": 25,
   "metadata": {},
   "outputs": [],
   "source": [
    "y_pred = model.predict(test_set)"
   ]
  },
  {
   "cell_type": "code",
   "execution_count": 26,
   "metadata": {},
   "outputs": [
    {
     "data": {
      "text/plain": [
       "array([[9.9999964e-01, 4.0885979e-07],\n",
       "       [9.9999774e-01, 2.2468275e-06],\n",
       "       [2.4905810e-02, 9.7509426e-01],\n",
       "       [2.7989882e-01, 7.2010112e-01],\n",
       "       [9.9770099e-01, 2.2989856e-03],\n",
       "       [9.9999857e-01, 1.4885999e-06],\n",
       "       [7.7683385e-03, 9.9223161e-01],\n",
       "       [7.4075602e-02, 9.2592436e-01],\n",
       "       [9.9997759e-01, 2.2430026e-05],\n",
       "       [1.0307624e-02, 9.8969239e-01],\n",
       "       [9.0094477e-02, 9.0990549e-01],\n",
       "       [1.2032550e-02, 9.8796743e-01],\n",
       "       [1.0000000e+00, 5.5075404e-14],\n",
       "       [9.5643038e-03, 9.9043572e-01],\n",
       "       [1.0000000e+00, 2.9690932e-08],\n",
       "       [9.9982518e-01, 1.7487218e-04],\n",
       "       [1.2775000e-02, 9.8722500e-01],\n",
       "       [8.2417401e-03, 9.9175829e-01],\n",
       "       [1.0000000e+00, 4.8196355e-08],\n",
       "       [1.0023166e-02, 9.8997682e-01],\n",
       "       [9.9999619e-01, 3.8341332e-06],\n",
       "       [3.5203248e-02, 9.6479678e-01],\n",
       "       [9.7334236e-01, 2.6657589e-02],\n",
       "       [9.9802101e-01, 1.9790377e-03],\n",
       "       [9.9822563e-01, 1.7743887e-03],\n",
       "       [1.0000000e+00, 1.0985388e-11],\n",
       "       [6.2757587e-01, 3.7242419e-01],\n",
       "       [3.2426286e-02, 9.6757376e-01],\n",
       "       [1.2103932e-02, 9.8789608e-01],\n",
       "       [1.0000000e+00, 2.8817422e-12],\n",
       "       [9.9999547e-01, 4.5733000e-06],\n",
       "       [3.2170073e-03, 9.9678302e-01],\n",
       "       [9.9998522e-01, 1.4792280e-05],\n",
       "       [1.0000000e+00, 1.1499619e-22],\n",
       "       [3.0385053e-03, 9.9696141e-01],\n",
       "       [9.9998510e-01, 1.4856138e-05],\n",
       "       [9.9946040e-01, 5.3963624e-04],\n",
       "       [2.9689427e-03, 9.9703109e-01],\n",
       "       [9.9996817e-01, 3.1801097e-05],\n",
       "       [9.9999511e-01, 4.9194305e-06],\n",
       "       [5.3799697e-03, 9.9461997e-01],\n",
       "       [9.9971431e-01, 2.8568704e-04],\n",
       "       [2.4166448e-01, 7.5833559e-01],\n",
       "       [1.0000000e+00, 1.2266079e-18],\n",
       "       [9.9999976e-01, 2.7246043e-07],\n",
       "       [7.0821666e-03, 9.9291784e-01],\n",
       "       [9.9983239e-01, 1.6763964e-04],\n",
       "       [3.0845407e-02, 9.6915466e-01],\n",
       "       [8.7574590e-03, 9.9124253e-01],\n",
       "       [9.0240361e-03, 9.9097604e-01],\n",
       "       [9.9982661e-01, 1.7347037e-04],\n",
       "       [9.9888545e-01, 1.1145746e-03],\n",
       "       [4.5772836e-02, 9.5422715e-01],\n",
       "       [5.9449102e-04, 9.9940550e-01],\n",
       "       [9.9918622e-01, 8.1373169e-04],\n",
       "       [1.0000000e+00, 3.4991171e-10],\n",
       "       [5.9341222e-01, 4.0658778e-01],\n",
       "       [9.9995339e-01, 4.6607634e-05],\n",
       "       [1.6645757e-02, 9.8335427e-01],\n",
       "       [9.9741757e-01, 2.5824783e-03],\n",
       "       [4.1714121e-02, 9.5828581e-01],\n",
       "       [9.9820757e-01, 1.7924682e-03],\n",
       "       [9.9998331e-01, 1.6705899e-05],\n",
       "       [9.9324906e-01, 6.7509213e-03],\n",
       "       [1.6718673e-02, 9.8328131e-01],\n",
       "       [9.9998283e-01, 1.7137831e-05],\n",
       "       [3.8146931e-03, 9.9618524e-01],\n",
       "       [9.9792373e-01, 2.0762642e-03],\n",
       "       [9.9944121e-01, 5.5875868e-04],\n",
       "       [9.2374934e-03, 9.9076253e-01],\n",
       "       [3.4051097e-03, 9.9659485e-01],\n",
       "       [9.9999964e-01, 4.1656810e-07],\n",
       "       [9.9999762e-01, 2.3713715e-06],\n",
       "       [9.9993122e-01, 6.8821784e-05],\n",
       "       [9.9999988e-01, 6.2922147e-08],\n",
       "       [9.9999952e-01, 4.6332084e-07],\n",
       "       [9.5631378e-03, 9.9043685e-01],\n",
       "       [9.9987030e-01, 1.2972865e-04],\n",
       "       [9.9986196e-01, 1.3800278e-04],\n",
       "       [4.7727008e-03, 9.9522734e-01],\n",
       "       [1.0000000e+00, 6.2802845e-12],\n",
       "       [9.4017657e-03, 9.9059826e-01],\n",
       "       [3.8114912e-03, 9.9618858e-01],\n",
       "       [9.9999571e-01, 4.2513288e-06],\n",
       "       [6.5968055e-03, 9.9340326e-01],\n",
       "       [9.9990845e-01, 9.1533875e-05],\n",
       "       [9.9975866e-01, 2.4133471e-04],\n",
       "       [5.3261314e-03, 9.9467385e-01],\n",
       "       [3.4934659e-03, 9.9650651e-01],\n",
       "       [2.9999670e-02, 9.7000027e-01],\n",
       "       [9.9999797e-01, 2.0713778e-06],\n",
       "       [9.9933964e-01, 6.6032441e-04],\n",
       "       [9.9999976e-01, 1.9551753e-07],\n",
       "       [1.2629301e-02, 9.8737073e-01],\n",
       "       [4.8278244e-03, 9.9517220e-01],\n",
       "       [1.0000000e+00, 5.5785478e-09],\n",
       "       [4.1674729e-03, 9.9583250e-01],\n",
       "       [9.9984622e-01, 1.5372867e-04],\n",
       "       [9.9990869e-01, 9.1251241e-05],\n",
       "       [8.2771583e-03, 9.9172288e-01],\n",
       "       [9.9976975e-01, 2.3027784e-04],\n",
       "       [4.5894474e-02, 9.5410550e-01],\n",
       "       [3.2842942e-03, 9.9671578e-01],\n",
       "       [1.0000000e+00, 5.7686477e-11],\n",
       "       [1.0000000e+00, 1.0718480e-10],\n",
       "       [9.9999917e-01, 8.0444408e-07],\n",
       "       [4.3966779e-03, 9.9560332e-01],\n",
       "       [9.9999380e-01, 6.2036711e-06],\n",
       "       [6.6574654e-03, 9.9334258e-01],\n",
       "       [9.2209107e-01, 7.7908985e-02],\n",
       "       [9.7639948e-01, 2.3600582e-02],\n",
       "       [9.9999964e-01, 3.9353461e-07],\n",
       "       [2.2583470e-02, 9.7741652e-01],\n",
       "       [6.3671721e-03, 9.9363285e-01],\n",
       "       [1.0926790e-02, 9.8907322e-01],\n",
       "       [1.5178731e-02, 9.8482126e-01],\n",
       "       [2.9982427e-02, 9.7001755e-01],\n",
       "       [1.9605275e-02, 9.8039472e-01],\n",
       "       [1.0000000e+00, 3.9618819e-10],\n",
       "       [5.1418985e-03, 9.9485815e-01],\n",
       "       [9.9126047e-01, 8.7395245e-03],\n",
       "       [4.5765745e-03, 9.9542338e-01],\n",
       "       [9.9999952e-01, 4.6114278e-07],\n",
       "       [9.9962473e-01, 3.7527361e-04],\n",
       "       [1.0000000e+00, 3.8019624e-16],\n",
       "       [2.8748870e-02, 9.7125119e-01],\n",
       "       [1.0000000e+00, 1.5040742e-09],\n",
       "       [9.9737895e-01, 2.6211317e-03],\n",
       "       [4.7491410e-01, 5.2508593e-01],\n",
       "       [9.9999297e-01, 7.0456213e-06],\n",
       "       [6.1996598e-02, 9.3800342e-01],\n",
       "       [1.0000000e+00, 1.3961385e-14],\n",
       "       [1.4802630e-02, 9.8519737e-01],\n",
       "       [1.0000000e+00, 2.0541311e-14]], dtype=float32)"
      ]
     },
     "execution_count": 26,
     "metadata": {},
     "output_type": "execute_result"
    }
   ],
   "source": [
    "y_pred"
   ]
  },
  {
   "cell_type": "code",
   "execution_count": 27,
   "metadata": {},
   "outputs": [],
   "source": [
    "import numpy as np\n",
    "y_pred = np.argmax(y_pred, axis=1)"
   ]
  },
  {
   "cell_type": "code",
   "execution_count": 28,
   "metadata": {},
   "outputs": [
    {
     "data": {
      "text/plain": [
       "array([0, 0, 1, 1, 0, 0, 1, 1, 0, 1, 1, 1, 0, 1, 0, 0, 1, 1, 0, 1, 0, 1,\n",
       "       0, 0, 0, 0, 0, 1, 1, 0, 0, 1, 0, 0, 1, 0, 0, 1, 0, 0, 1, 0, 1, 0,\n",
       "       0, 1, 0, 1, 1, 1, 0, 0, 1, 1, 0, 0, 0, 0, 1, 0, 1, 0, 0, 0, 1, 0,\n",
       "       1, 0, 0, 1, 1, 0, 0, 0, 0, 0, 1, 0, 0, 1, 0, 1, 1, 0, 1, 0, 0, 1,\n",
       "       1, 1, 0, 0, 0, 1, 1, 0, 1, 0, 0, 1, 0, 1, 1, 0, 0, 0, 1, 0, 1, 0,\n",
       "       0, 0, 1, 1, 1, 1, 1, 1, 0, 1, 0, 1, 0, 0, 0, 1, 0, 0, 1, 0, 1, 0,\n",
       "       1, 0])"
      ]
     },
     "execution_count": 28,
     "metadata": {},
     "output_type": "execute_result"
    }
   ],
   "source": [
    "y_pred"
   ]
  },
  {
   "cell_type": "code",
   "execution_count": 30,
   "metadata": {},
   "outputs": [
    {
     "data": {
      "text/plain": [
       "array([[[0., 0., 0.],\n",
       "        [0., 0., 0.],\n",
       "        [0., 0., 0.],\n",
       "        ...,\n",
       "        [0., 0., 0.],\n",
       "        [0., 0., 0.],\n",
       "        [0., 0., 0.]],\n",
       "\n",
       "       [[0., 0., 0.],\n",
       "        [0., 0., 0.],\n",
       "        [0., 0., 0.],\n",
       "        ...,\n",
       "        [0., 0., 0.],\n",
       "        [0., 0., 0.],\n",
       "        [0., 0., 0.]],\n",
       "\n",
       "       [[0., 0., 0.],\n",
       "        [0., 0., 0.],\n",
       "        [0., 0., 0.],\n",
       "        ...,\n",
       "        [0., 0., 0.],\n",
       "        [0., 0., 0.],\n",
       "        [0., 0., 0.]],\n",
       "\n",
       "       ...,\n",
       "\n",
       "       [[0., 0., 0.],\n",
       "        [0., 0., 0.],\n",
       "        [0., 0., 0.],\n",
       "        ...,\n",
       "        [0., 0., 0.],\n",
       "        [0., 0., 0.],\n",
       "        [0., 0., 0.]],\n",
       "\n",
       "       [[0., 0., 0.],\n",
       "        [0., 0., 0.],\n",
       "        [0., 0., 0.],\n",
       "        ...,\n",
       "        [0., 0., 0.],\n",
       "        [0., 0., 0.],\n",
       "        [0., 0., 0.]],\n",
       "\n",
       "       [[0., 0., 0.],\n",
       "        [0., 0., 0.],\n",
       "        [0., 0., 0.],\n",
       "        ...,\n",
       "        [0., 0., 0.],\n",
       "        [0., 0., 0.],\n",
       "        [0., 0., 0.]]], dtype=float32)"
      ]
     },
     "execution_count": 30,
     "metadata": {},
     "output_type": "execute_result"
    }
   ],
   "source": [
    "img=image.load_img('Dataset/Test/Uninfected/2.png',target_size=(224,224))\n",
    "\n",
    "x=image.img_to_array(img)\n",
    "x"
   ]
  },
  {
   "cell_type": "code",
   "execution_count": 36,
   "metadata": {},
   "outputs": [
    {
     "data": {
      "image/png": "[encoded data removed]",
      "text/plain": [
       "<PIL.Image.Image image mode=RGB size=224x224 at 0x7F9B737D31F0>"
      ]
     },
     "execution_count": 36,
     "metadata": {},
     "output_type": "execute_result"
    }
   ],
   "source": [
    "img"
   ]
  },
  {
   "cell_type": "code",
   "execution_count": 31,
   "metadata": {},
   "outputs": [],
   "source": [
    "x.shape\n",
    "x=x/255\n"
   ]
  },
  {
   "cell_type": "code",
   "execution_count": 32,
   "metadata": {},
   "outputs": [
    {
     "data": {
      "text/plain": [
       "(1, 224, 224, 3)"
      ]
     },
     "execution_count": 32,
     "metadata": {},
     "output_type": "execute_result"
    }
   ],
   "source": [
    "x=np.expand_dims(x,axis=0)\n",
    "img_data=preprocess_input(x)\n",
    "img_data.shape"
   ]
  },
  {
   "cell_type": "code",
   "execution_count": 33,
   "metadata": {},
   "outputs": [
    {
     "data": {
      "text/plain": [
       "array([[1., 0.]], dtype=float32)"
      ]
     },
     "execution_count": 33,
     "metadata": {},
     "output_type": "execute_result"
    }
   ],
   "source": [
    "model.predict(img_data)\n"
   ]
  },
  {
   "cell_type": "code",
   "execution_count": 34,
   "metadata": {},
   "outputs": [],
   "source": [
    "a=np.argmax(model.predict(img_data), axis=1)\n"
   ]
  },
  {
   "cell_type": "code",
   "execution_count": 35,
   "metadata": {},
   "outputs": [
    {
     "name": "stdout",
     "output_type": "stream",
     "text": [
      "Infected\n"
     ]
    }
   ],
   "source": [
    "if(a==1):\n",
    "    print(\"Uninfected\")\n",
    "else:\n",
    "    print(\"Infected\")"
   ]
  },
  {
   "cell_type": "code",
   "execution_count": null,
   "metadata": {},
   "outputs": [],
   "source": []
  }
 ],
 "metadata": {
  "kernelspec": {
   "display_name": "Python 3",
   "language": "python",
   "name": "python3"
  },
  "language_info": {
   "codemirror_mode": {
    "name": "ipython",
    "version": 3
   },
   "file_extension": ".py",
   "mimetype": "text/x-python",
   "name": "python",
   "nbconvert_exporter": "python",
   "pygments_lexer": "ipython3",
   "version": "3.8.5"
  }
 },
 "nbformat": 4,
 "nbformat_minor": 4
}
